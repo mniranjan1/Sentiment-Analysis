{
 "cells": [
  {
   "cell_type": "code",
   "execution_count": null,
   "metadata": {
    "id": "sdQlVm8e0QWQ"
   },
   "outputs": [],
   "source": [
    "import numpy as np # linear algebra\n",
    "import pandas as pd # data processing, CSV file I/O (e.g. pd.read_csv)\n",
    "import torch\n",
    "import torch.nn as nn\n",
    "import torch.nn.functional as F\n",
    "from nltk.corpus import stopwords \n",
    "from collections import Counter\n",
    "import string\n",
    "import re\n",
    "import seaborn as sns\n",
    "from tqdm import tqdm\n",
    "import matplotlib.pyplot as plt\n",
    "from torch.utils.data import TensorDataset, DataLoader\n",
    "from sklearn.model_selection import train_test_split"
   ]
  },
  {
   "cell_type": "code",
   "execution_count": null,
   "metadata": {
    "id": "0Buon8mwdDcW"
   },
   "outputs": [],
   "source": []
  },
  {
   "cell_type": "code",
   "execution_count": null,
   "metadata": {
    "colab": {
     "base_uri": "https://localhost:8080/"
    },
    "id": "idcdsfqy0Ujo",
    "outputId": "3d298027-10f9-403d-bad9-1cbb3b298738"
   },
   "outputs": [
    {
     "name": "stdout",
     "output_type": "stream",
     "text": [
      "GPU is available\n"
     ]
    }
   ],
   "source": [
    "is_cuda = torch.cuda.is_available()\n",
    "\n",
    "# If we have a GPU available, we'll set our device to GPU. We'll use this device variable later in our code.\n",
    "if is_cuda:\n",
    "    device = torch.device(\"cuda\")\n",
    "    print(\"GPU is available\")\n",
    "else:\n",
    "    device = torch.device(\"cpu\")\n",
    "    print(\"GPU not available, CPU used\")"
   ]
  },
  {
   "cell_type": "code",
   "execution_count": null,
   "metadata": {
    "colab": {
     "base_uri": "https://localhost:8080/",
     "height": 419
    },
    "id": "8j4wBbWQ1UJ6",
    "outputId": "10818d05-97b7-4c5f-a8b6-08bb4b2da316"
   },
   "outputs": [
    {
     "data": {
      "text/html": [
       "<div>\n",
       "<style scoped>\n",
       "    .dataframe tbody tr th:only-of-type {\n",
       "        vertical-align: middle;\n",
       "    }\n",
       "\n",
       "    .dataframe tbody tr th {\n",
       "        vertical-align: top;\n",
       "    }\n",
       "\n",
       "    .dataframe thead th {\n",
       "        text-align: right;\n",
       "    }\n",
       "</style>\n",
       "<table border=\"1\" class=\"dataframe\">\n",
       "  <thead>\n",
       "    <tr style=\"text-align: right;\">\n",
       "      <th></th>\n",
       "      <th>0</th>\n",
       "      <th>1</th>\n",
       "      <th>2</th>\n",
       "      <th>3</th>\n",
       "    </tr>\n",
       "  </thead>\n",
       "  <tbody>\n",
       "    <tr>\n",
       "      <th>0</th>\n",
       "      <td>0</td>\n",
       "      <td>GENERAL</td>\n",
       "      <td>जोगाउन को लागि</td>\n",
       "      <td>गुठी विधेक ल्याएर ठमेल मा राज गुठि को जग्गा मा...</td>\n",
       "    </tr>\n",
       "    <tr>\n",
       "      <th>1</th>\n",
       "      <td>1</td>\n",
       "      <td>GENERAL</td>\n",
       "      <td>लखेटनु पछ</td>\n",
       "      <td>दले ले देश सकेछन सबै बेचे र खान सुरू गरेछन अब ...</td>\n",
       "    </tr>\n",
       "    <tr>\n",
       "      <th>2</th>\n",
       "      <td>1</td>\n",
       "      <td>GENERAL</td>\n",
       "      <td>ससकृती ध्वस्त पार्ने</td>\n",
       "      <td>नेपाल को ससकृती ध्वस्त पार्ने योजना हो यो !</td>\n",
       "    </tr>\n",
       "    <tr>\n",
       "      <th>3</th>\n",
       "      <td>1</td>\n",
       "      <td>GENERAL</td>\n",
       "      <td>भुमाफिया</td>\n",
       "      <td>मठ मन्दिर गुम्बा का जग्गा हरु मा भुमाफिया को न...</td>\n",
       "    </tr>\n",
       "    <tr>\n",
       "      <th>4</th>\n",
       "      <td>1</td>\n",
       "      <td>GENERAL</td>\n",
       "      <td>बेची सके</td>\n",
       "      <td>नेपाल का कल कर्खाना र नदि नाला बेची सके अब मठ ...</td>\n",
       "    </tr>\n",
       "    <tr>\n",
       "      <th>...</th>\n",
       "      <td>...</td>\n",
       "      <td>...</td>\n",
       "      <td>...</td>\n",
       "      <td>...</td>\n",
       "    </tr>\n",
       "    <tr>\n",
       "      <th>4030</th>\n",
       "      <td>0</td>\n",
       "      <td>FEEDBACK</td>\n",
       "      <td>कार्वाही हुनुपर्छ</td>\n",
       "      <td>गाडी एकदम राम्रो छ तर रोड भने आलु जस्तो छ दुइच...</td>\n",
       "    </tr>\n",
       "    <tr>\n",
       "      <th>4031</th>\n",
       "      <td>0</td>\n",
       "      <td>FEEDBACK</td>\n",
       "      <td>आवश्यक छ</td>\n",
       "      <td>गाडी एकदम राम्रो छ तर रोड भने आलु जस्तो छ दुइच...</td>\n",
       "    </tr>\n",
       "    <tr>\n",
       "      <th>4032</th>\n",
       "      <td>0</td>\n",
       "      <td>FEEDBACK</td>\n",
       "      <td>कम हुन्छ</td>\n",
       "      <td>कम से कम वायु प्रदूषण त कम हुन्छ ।</td>\n",
       "    </tr>\n",
       "    <tr>\n",
       "      <th>4033</th>\n",
       "      <td>0</td>\n",
       "      <td>FEEDBACK</td>\n",
       "      <td>लानु पर्छ</td>\n",
       "      <td>अब यसरी नै अन्य बस हरु थप्दै लानु पर्छ ।</td>\n",
       "    </tr>\n",
       "    <tr>\n",
       "      <th>4034</th>\n",
       "      <td>0</td>\n",
       "      <td>FEEDBACK</td>\n",
       "      <td>गर्न्नु पर्छ</td>\n",
       "      <td>गाडीत आयो तर सडक स्तरउन्नती गर्न्नु पर्छ ।</td>\n",
       "    </tr>\n",
       "  </tbody>\n",
       "</table>\n",
       "<p>4035 rows × 4 columns</p>\n",
       "</div>"
      ],
      "text/plain": [
       "      0  ...                                                  3\n",
       "0     0  ...  गुठी विधेक ल्याएर ठमेल मा राज गुठि को जग्गा मा...\n",
       "1     1  ...  दले ले देश सकेछन सबै बेचे र खान सुरू गरेछन अब ...\n",
       "2     1  ...        नेपाल को ससकृती ध्वस्त पार्ने योजना हो यो !\n",
       "3     1  ...  मठ मन्दिर गुम्बा का जग्गा हरु मा भुमाफिया को न...\n",
       "4     1  ...  नेपाल का कल कर्खाना र नदि नाला बेची सके अब मठ ...\n",
       "...  ..  ...                                                ...\n",
       "4030  0  ...  गाडी एकदम राम्रो छ तर रोड भने आलु जस्तो छ दुइच...\n",
       "4031  0  ...  गाडी एकदम राम्रो छ तर रोड भने आलु जस्तो छ दुइच...\n",
       "4032  0  ...                 कम से कम वायु प्रदूषण त कम हुन्छ ।\n",
       "4033  0  ...           अब यसरी नै अन्य बस हरु थप्दै लानु पर्छ ।\n",
       "4034  0  ...         गाडीत आयो तर सडक स्तरउन्नती गर्न्नु पर्छ ।\n",
       "\n",
       "[4035 rows x 4 columns]"
      ]
     },
     "execution_count": 3,
     "metadata": {
      "tags": []
     },
     "output_type": "execute_result"
    }
   ],
   "source": [
    "base_csv = '/content/nepal.csv'\n",
    "df = pd.read_csv(base_csv, header = None)\n",
    "df\n"
   ]
  },
  {
   "cell_type": "code",
   "execution_count": null,
   "metadata": {
    "id": "enuRyutaTeTY"
   },
   "outputs": [],
   "source": [
    "df = df.rename(columns = { 0:'reaction'})"
   ]
  },
  {
   "cell_type": "code",
   "execution_count": null,
   "metadata": {
    "id": "rEFEcrLjUXNv"
   },
   "outputs": [],
   "source": [
    "df.loc[(df['reaction'] == 0), 'reaction'] = 'negative'"
   ]
  },
  {
   "cell_type": "code",
   "execution_count": null,
   "metadata": {
    "id": "9b--oXRlVOZH"
   },
   "outputs": [],
   "source": [
    "df.loc[(df['reaction'] == 1), 'reaction'] = 'positive'"
   ]
  },
  {
   "cell_type": "code",
   "execution_count": null,
   "metadata": {
    "colab": {
     "base_uri": "https://localhost:8080/",
     "height": 419
    },
    "id": "-tjCXwDyU8vW",
    "outputId": "2ba999d6-b293-443f-d8f4-7db2240bc268"
   },
   "outputs": [
    {
     "data": {
      "text/html": [
       "<div>\n",
       "<style scoped>\n",
       "    .dataframe tbody tr th:only-of-type {\n",
       "        vertical-align: middle;\n",
       "    }\n",
       "\n",
       "    .dataframe tbody tr th {\n",
       "        vertical-align: top;\n",
       "    }\n",
       "\n",
       "    .dataframe thead th {\n",
       "        text-align: right;\n",
       "    }\n",
       "</style>\n",
       "<table border=\"1\" class=\"dataframe\">\n",
       "  <thead>\n",
       "    <tr style=\"text-align: right;\">\n",
       "      <th></th>\n",
       "      <th>reaction</th>\n",
       "      <th>1</th>\n",
       "      <th>2</th>\n",
       "      <th>3</th>\n",
       "    </tr>\n",
       "  </thead>\n",
       "  <tbody>\n",
       "    <tr>\n",
       "      <th>0</th>\n",
       "      <td>negative</td>\n",
       "      <td>GENERAL</td>\n",
       "      <td>जोगाउन को लागि</td>\n",
       "      <td>गुठी विधेक ल्याएर ठमेल मा राज गुठि को जग्गा मा...</td>\n",
       "    </tr>\n",
       "    <tr>\n",
       "      <th>1</th>\n",
       "      <td>positive</td>\n",
       "      <td>GENERAL</td>\n",
       "      <td>लखेटनु पछ</td>\n",
       "      <td>दले ले देश सकेछन सबै बेचे र खान सुरू गरेछन अब ...</td>\n",
       "    </tr>\n",
       "    <tr>\n",
       "      <th>2</th>\n",
       "      <td>positive</td>\n",
       "      <td>GENERAL</td>\n",
       "      <td>ससकृती ध्वस्त पार्ने</td>\n",
       "      <td>नेपाल को ससकृती ध्वस्त पार्ने योजना हो यो !</td>\n",
       "    </tr>\n",
       "    <tr>\n",
       "      <th>3</th>\n",
       "      <td>positive</td>\n",
       "      <td>GENERAL</td>\n",
       "      <td>भुमाफिया</td>\n",
       "      <td>मठ मन्दिर गुम्बा का जग्गा हरु मा भुमाफिया को न...</td>\n",
       "    </tr>\n",
       "    <tr>\n",
       "      <th>4</th>\n",
       "      <td>positive</td>\n",
       "      <td>GENERAL</td>\n",
       "      <td>बेची सके</td>\n",
       "      <td>नेपाल का कल कर्खाना र नदि नाला बेची सके अब मठ ...</td>\n",
       "    </tr>\n",
       "    <tr>\n",
       "      <th>...</th>\n",
       "      <td>...</td>\n",
       "      <td>...</td>\n",
       "      <td>...</td>\n",
       "      <td>...</td>\n",
       "    </tr>\n",
       "    <tr>\n",
       "      <th>4030</th>\n",
       "      <td>negative</td>\n",
       "      <td>FEEDBACK</td>\n",
       "      <td>कार्वाही हुनुपर्छ</td>\n",
       "      <td>गाडी एकदम राम्रो छ तर रोड भने आलु जस्तो छ दुइच...</td>\n",
       "    </tr>\n",
       "    <tr>\n",
       "      <th>4031</th>\n",
       "      <td>negative</td>\n",
       "      <td>FEEDBACK</td>\n",
       "      <td>आवश्यक छ</td>\n",
       "      <td>गाडी एकदम राम्रो छ तर रोड भने आलु जस्तो छ दुइच...</td>\n",
       "    </tr>\n",
       "    <tr>\n",
       "      <th>4032</th>\n",
       "      <td>negative</td>\n",
       "      <td>FEEDBACK</td>\n",
       "      <td>कम हुन्छ</td>\n",
       "      <td>कम से कम वायु प्रदूषण त कम हुन्छ ।</td>\n",
       "    </tr>\n",
       "    <tr>\n",
       "      <th>4033</th>\n",
       "      <td>negative</td>\n",
       "      <td>FEEDBACK</td>\n",
       "      <td>लानु पर्छ</td>\n",
       "      <td>अब यसरी नै अन्य बस हरु थप्दै लानु पर्छ ।</td>\n",
       "    </tr>\n",
       "    <tr>\n",
       "      <th>4034</th>\n",
       "      <td>negative</td>\n",
       "      <td>FEEDBACK</td>\n",
       "      <td>गर्न्नु पर्छ</td>\n",
       "      <td>गाडीत आयो तर सडक स्तरउन्नती गर्न्नु पर्छ ।</td>\n",
       "    </tr>\n",
       "  </tbody>\n",
       "</table>\n",
       "<p>4035 rows × 4 columns</p>\n",
       "</div>"
      ],
      "text/plain": [
       "      reaction  ...                                                  3\n",
       "0     negative  ...  गुठी विधेक ल्याएर ठमेल मा राज गुठि को जग्गा मा...\n",
       "1     positive  ...  दले ले देश सकेछन सबै बेचे र खान सुरू गरेछन अब ...\n",
       "2     positive  ...        नेपाल को ससकृती ध्वस्त पार्ने योजना हो यो !\n",
       "3     positive  ...  मठ मन्दिर गुम्बा का जग्गा हरु मा भुमाफिया को न...\n",
       "4     positive  ...  नेपाल का कल कर्खाना र नदि नाला बेची सके अब मठ ...\n",
       "...        ...  ...                                                ...\n",
       "4030  negative  ...  गाडी एकदम राम्रो छ तर रोड भने आलु जस्तो छ दुइच...\n",
       "4031  negative  ...  गाडी एकदम राम्रो छ तर रोड भने आलु जस्तो छ दुइच...\n",
       "4032  negative  ...                 कम से कम वायु प्रदूषण त कम हुन्छ ।\n",
       "4033  negative  ...           अब यसरी नै अन्य बस हरु थप्दै लानु पर्छ ।\n",
       "4034  negative  ...         गाडीत आयो तर सडक स्तरउन्नती गर्न्नु पर्छ ।\n",
       "\n",
       "[4035 rows x 4 columns]"
      ]
     },
     "execution_count": 7,
     "metadata": {
      "tags": []
     },
     "output_type": "execute_result"
    }
   ],
   "source": [
    "df"
   ]
  },
  {
   "cell_type": "code",
   "execution_count": null,
   "metadata": {
    "id": "KMZjh6isBrPd"
   },
   "outputs": [],
   "source": [
    "df['join']= df[2]+' '+ df[3]"
   ]
  },
  {
   "cell_type": "code",
   "execution_count": null,
   "metadata": {
    "colab": {
     "base_uri": "https://localhost:8080/",
     "height": 504
    },
    "id": "nnwcfKpfBzS0",
    "outputId": "0de1bf04-cfce-480c-cecb-ac32e4161b9c"
   },
   "outputs": [
    {
     "data": {
      "text/html": [
       "<div>\n",
       "<style scoped>\n",
       "    .dataframe tbody tr th:only-of-type {\n",
       "        vertical-align: middle;\n",
       "    }\n",
       "\n",
       "    .dataframe tbody tr th {\n",
       "        vertical-align: top;\n",
       "    }\n",
       "\n",
       "    .dataframe thead th {\n",
       "        text-align: right;\n",
       "    }\n",
       "</style>\n",
       "<table border=\"1\" class=\"dataframe\">\n",
       "  <thead>\n",
       "    <tr style=\"text-align: right;\">\n",
       "      <th></th>\n",
       "      <th>reaction</th>\n",
       "      <th>1</th>\n",
       "      <th>2</th>\n",
       "      <th>3</th>\n",
       "      <th>join</th>\n",
       "    </tr>\n",
       "  </thead>\n",
       "  <tbody>\n",
       "    <tr>\n",
       "      <th>0</th>\n",
       "      <td>negative</td>\n",
       "      <td>GENERAL</td>\n",
       "      <td>जोगाउन को लागि</td>\n",
       "      <td>गुठी विधेक ल्याएर ठमेल मा राज गुठि को जग्गा मा...</td>\n",
       "      <td>जोगाउन को लागि गुठी विधेक ल्याएर ठमेल मा राज ग...</td>\n",
       "    </tr>\n",
       "    <tr>\n",
       "      <th>1</th>\n",
       "      <td>positive</td>\n",
       "      <td>GENERAL</td>\n",
       "      <td>लखेटनु पछ</td>\n",
       "      <td>दले ले देश सकेछन सबै बेचे र खान सुरू गरेछन अब ...</td>\n",
       "      <td>लखेटनु पछ दले ले देश सकेछन सबै बेचे र खान सुरू...</td>\n",
       "    </tr>\n",
       "    <tr>\n",
       "      <th>2</th>\n",
       "      <td>positive</td>\n",
       "      <td>GENERAL</td>\n",
       "      <td>ससकृती ध्वस्त पार्ने</td>\n",
       "      <td>नेपाल को ससकृती ध्वस्त पार्ने योजना हो यो !</td>\n",
       "      <td>ससकृती ध्वस्त पार्ने नेपाल को ससकृती ध्वस्त पा...</td>\n",
       "    </tr>\n",
       "    <tr>\n",
       "      <th>3</th>\n",
       "      <td>positive</td>\n",
       "      <td>GENERAL</td>\n",
       "      <td>भुमाफिया</td>\n",
       "      <td>मठ मन्दिर गुम्बा का जग्गा हरु मा भुमाफिया को न...</td>\n",
       "      <td>भुमाफिया मठ मन्दिर गुम्बा का जग्गा हरु मा भुमा...</td>\n",
       "    </tr>\n",
       "    <tr>\n",
       "      <th>4</th>\n",
       "      <td>positive</td>\n",
       "      <td>GENERAL</td>\n",
       "      <td>बेची सके</td>\n",
       "      <td>नेपाल का कल कर्खाना र नदि नाला बेची सके अब मठ ...</td>\n",
       "      <td>बेची सके नेपाल का कल कर्खाना र नदि नाला बेची स...</td>\n",
       "    </tr>\n",
       "    <tr>\n",
       "      <th>...</th>\n",
       "      <td>...</td>\n",
       "      <td>...</td>\n",
       "      <td>...</td>\n",
       "      <td>...</td>\n",
       "      <td>...</td>\n",
       "    </tr>\n",
       "    <tr>\n",
       "      <th>4030</th>\n",
       "      <td>negative</td>\n",
       "      <td>FEEDBACK</td>\n",
       "      <td>कार्वाही हुनुपर्छ</td>\n",
       "      <td>गाडी एकदम राम्रो छ तर रोड भने आलु जस्तो छ दुइच...</td>\n",
       "      <td>कार्वाही हुनुपर्छ गाडी एकदम राम्रो छ तर रोड भन...</td>\n",
       "    </tr>\n",
       "    <tr>\n",
       "      <th>4031</th>\n",
       "      <td>negative</td>\n",
       "      <td>FEEDBACK</td>\n",
       "      <td>आवश्यक छ</td>\n",
       "      <td>गाडी एकदम राम्रो छ तर रोड भने आलु जस्तो छ दुइच...</td>\n",
       "      <td>आवश्यक छ गाडी एकदम राम्रो छ तर रोड भने आलु जस्...</td>\n",
       "    </tr>\n",
       "    <tr>\n",
       "      <th>4032</th>\n",
       "      <td>negative</td>\n",
       "      <td>FEEDBACK</td>\n",
       "      <td>कम हुन्छ</td>\n",
       "      <td>कम से कम वायु प्रदूषण त कम हुन्छ ।</td>\n",
       "      <td>कम हुन्छ कम से कम वायु प्रदूषण त कम हुन्छ ।</td>\n",
       "    </tr>\n",
       "    <tr>\n",
       "      <th>4033</th>\n",
       "      <td>negative</td>\n",
       "      <td>FEEDBACK</td>\n",
       "      <td>लानु पर्छ</td>\n",
       "      <td>अब यसरी नै अन्य बस हरु थप्दै लानु पर्छ ।</td>\n",
       "      <td>लानु पर्छ अब यसरी नै अन्य बस हरु थप्दै लानु पर...</td>\n",
       "    </tr>\n",
       "    <tr>\n",
       "      <th>4034</th>\n",
       "      <td>negative</td>\n",
       "      <td>FEEDBACK</td>\n",
       "      <td>गर्न्नु पर्छ</td>\n",
       "      <td>गाडीत आयो तर सडक स्तरउन्नती गर्न्नु पर्छ ।</td>\n",
       "      <td>गर्न्नु पर्छ गाडीत आयो तर सडक स्तरउन्नती गर्न्...</td>\n",
       "    </tr>\n",
       "  </tbody>\n",
       "</table>\n",
       "<p>4035 rows × 5 columns</p>\n",
       "</div>"
      ],
      "text/plain": [
       "      reaction  ...                                               join\n",
       "0     negative  ...  जोगाउन को लागि गुठी विधेक ल्याएर ठमेल मा राज ग...\n",
       "1     positive  ...  लखेटनु पछ दले ले देश सकेछन सबै बेचे र खान सुरू...\n",
       "2     positive  ...  ससकृती ध्वस्त पार्ने नेपाल को ससकृती ध्वस्त पा...\n",
       "3     positive  ...  भुमाफिया मठ मन्दिर गुम्बा का जग्गा हरु मा भुमा...\n",
       "4     positive  ...  बेची सके नेपाल का कल कर्खाना र नदि नाला बेची स...\n",
       "...        ...  ...                                                ...\n",
       "4030  negative  ...  कार्वाही हुनुपर्छ गाडी एकदम राम्रो छ तर रोड भन...\n",
       "4031  negative  ...  आवश्यक छ गाडी एकदम राम्रो छ तर रोड भने आलु जस्...\n",
       "4032  negative  ...        कम हुन्छ कम से कम वायु प्रदूषण त कम हुन्छ ।\n",
       "4033  negative  ...  लानु पर्छ अब यसरी नै अन्य बस हरु थप्दै लानु पर...\n",
       "4034  negative  ...  गर्न्नु पर्छ गाडीत आयो तर सडक स्तरउन्नती गर्न्...\n",
       "\n",
       "[4035 rows x 5 columns]"
      ]
     },
     "execution_count": 9,
     "metadata": {
      "tags": []
     },
     "output_type": "execute_result"
    }
   ],
   "source": [
    "df"
   ]
  },
  {
   "cell_type": "code",
   "execution_count": null,
   "metadata": {
    "colab": {
     "base_uri": "https://localhost:8080/"
    },
    "id": "oTPjuof71b3Z",
    "outputId": "332dc62d-6f95-4411-d1e9-58326cbc153e"
   },
   "outputs": [
    {
     "name": "stdout",
     "output_type": "stream",
     "text": [
      "shape of train data is (3026,)\n",
      "shape of test data is (1009,)\n"
     ]
    }
   ],
   "source": [
    "X,y = df['join'].values,df['reaction'].values\n",
    "x_train,x_test,y_train,y_test = train_test_split(X,y,stratify=y)\n",
    "print(f'shape of train data is {x_train.shape}')\n",
    "print(f'shape of test data is {x_test.shape}')"
   ]
  },
  {
   "cell_type": "code",
   "execution_count": null,
   "metadata": {
    "colab": {
     "base_uri": "https://localhost:8080/"
    },
    "id": "imA3YmDkPqqY",
    "outputId": "99645022-d1d5-44a2-a6b3-70d03833b2ae"
   },
   "outputs": [
    {
     "data": {
      "text/plain": [
       "array(['सिके हुने नमस्कार रबी सर साथै दिकप सर जे गरे पनी देश को क़ानून छैन रबि सर बाट सिके हुने नी सधै देखाउड़I पनी लाज छैन हाम्रो देश का नेता हरू यो सेटिंग लाई छोडेर काम MA लगने भय देश बन्ने थियो रबी सर हरू को बयान गरेर पनी सकीदैन ।',\n",
       "       'खाते राजा आउनु पर्\\u200dयो यी सबै भ्रष्टचारी लाई ठुलो खोर बनाएर भित्र्याउनु पर्\\u200dयो खाते हरु लाई ।',\n",
       "       'आउनु पर्छ हिन्दू राष्ट्र सहित राजतन्त्र आउनु पर्छ ।', ...,\n",
       "       'शू शूभ कामना आगामी दिन मा हजूर को कार्यक्रम सफलता को शू शूभ कामना यहि नै मेरो तर्फ बाट ।',\n",
       "       'राम्रो योजाना राम्रो योजाना हरु छन रबिन्द्र मिश्र सङ्ग रहेछन मनपर्यो ।',\n",
       "       'बड़ाऊनु होला धेरै धेरै बधाई छ रवि सर तपाई लाई अब झन अड़ीग अनी ज़िम्मेवार भएर कार्यक्रम लाई आगड़ी बड़ाऊनु होला ।'],\n",
       "      dtype=object)"
      ]
     },
     "execution_count": 24,
     "metadata": {
      "tags": []
     },
     "output_type": "execute_result"
    }
   ],
   "source": [
    "x_train"
   ]
  },
  {
   "cell_type": "code",
   "execution_count": null,
   "metadata": {
    "colab": {
     "base_uri": "https://localhost:8080/",
     "height": 265
    },
    "id": "Xf7k6_jg1fBT",
    "outputId": "3228f948-38da-429f-f1c0-599282e71838"
   },
   "outputs": [
    {
     "data": {
      "image/png": "[encoded data removed]",
      "text/plain": [
       "<Figure size 432x288 with 1 Axes>"
      ]
     },
     "metadata": {
      "needs_background": "light",
      "tags": []
     },
     "output_type": "display_data"
    }
   ],
   "source": [
    "dd = pd.Series(y_train).value_counts()\n",
    "sns.barplot(x=np.array(['negative','positive']),y=dd.values)\n",
    "plt.show()"
   ]
  },
  {
   "cell_type": "code",
   "execution_count": null,
   "metadata": {
    "id": "OPIWYEHRGlld"
   },
   "outputs": [],
   "source": [
    "import snowballstemmer\n",
    "import time\n",
    "stop_words = [] \n",
    "with open('non-potential-topic-word-list.txt', 'r', encoding=\"utf8\") as reader:\n",
    "    for line in reader:\n",
    "        line = line.strip('\\n')\n",
    "        stop_words.append(line)\n",
    "stemmer = snowballstemmer.NepaliStemmer()\n",
    "def content_filter(df_all_content):\n",
    "        df['content_list'] = df_all_content.apply(tokenizer)\n",
    "        df['join'] =  df['content_list'].apply(lambda x: \" \".join(x))\n",
    "\n",
    "def tokenizer(text): \n",
    "      tokenized_word = []\n",
    "      stopwords = set(stop_words)\n",
    "      stem_list = stemmer.stemWords(text.split())\n",
    "      tokenized_word = list(filter(word_filter, stem_list))\n",
    "        # final_tokenized_word = [word for word in tokenized_word if len(word)>3]\n",
    "\n",
    "      return tokenized_word\n",
    "\n",
    "def word_filter(stem_word):\n",
    "        nepali_word = True\n",
    "        # print('stem_word: ',stem_word)\n",
    "        if len(stem_word) > 3:\n",
    "            for letter in stem_word:\n",
    "                if not 0x0090 <= ord(letter) <= 0x97F:\n",
    "                    nepali_word = False\n",
    "                return nepali_word \n",
    "        else:\n",
    "            return False \n"
   ]
  },
  {
   "cell_type": "code",
   "execution_count": null,
   "metadata": {
    "colab": {
     "base_uri": "https://localhost:8080/"
    },
    "id": "BplGHOONIbUm",
    "outputId": "f336624b-2337-42f9-da6f-dca5a93a837c"
   },
   "outputs": [
    {
     "data": {
      "text/plain": [
       "array(['सरापेकाे सरापेकाे', 'दिमाग जनता धेरै माहाचोर साला दिमाग जनता',\n",
       "       'सोच्नी सुर्य सरकार कमिकमजोरी टिप्प आलोचना सरकार होशियारी गराउ राजाबा देख् सरकार कामकारबाही सुधार ल्याउ सोच्नी',\n",
       "       ..., 'सागर गौतमे जबाफ हजुर', 'हामी करोड नेपाली अखण्ड ढिक् नेपाल',\n",
       "       'पाठक घांस तलुवा चटुवा बिद्वान बन्न पर्दैन घन्टा गर्छन दिबेश कुरा ख़्याल सकिए तिमि फेरि रेलिंग भांचे'],\n",
       "      dtype=object)"
      ]
     },
     "execution_count": 70,
     "metadata": {
      "tags": []
     },
     "output_type": "execute_result"
    }
   ],
   "source": [
    "for sent in x_train:\n",
    "    for word in sent.lower().split():\n",
    "          word = preprocess_string(word)\n",
    "          if word not in stop_words and word != '':\n",
    "              word_list.append(word)\n"
   ]
  },
  {
   "cell_type": "code",
   "execution_count": null,
   "metadata": {
    "id": "h80GA5meK5TX"
   },
   "outputs": [],
   "source": []
  },
  {
   "cell_type": "code",
   "execution_count": null,
   "metadata": {
    "colab": {
     "base_uri": "https://localhost:8080/"
    },
    "id": "Qu4euSDIN6Qm",
    "outputId": "19f58fb5-013b-494b-9e5d-603fe3e057ba"
   },
   "outputs": [
    {
     "data": {
      "text/plain": [
       "array([list([]), list([]), list([]), ..., list([109]), list([]), list([])],\n",
       "      dtype=object)"
      ]
     },
     "execution_count": 22,
     "metadata": {
      "tags": []
     },
     "output_type": "execute_result"
    }
   ],
   "source": [
    "x_train"
   ]
  },
  {
   "cell_type": "code",
   "execution_count": null,
   "metadata": {
    "id": "dmqTgwRq1j5b"
   },
   "outputs": [],
   "source": [
    "def preprocess_string(s):\n",
    "    # Remove all non-word characters (everything except numbers and letters)\n",
    "    s = re.sub(r\"[^\\w\\s]\", '', s)\n",
    "    # Replace all runs of whitespaces with no space\n",
    "    s = re.sub(r\"\\s+\", '', s)\n",
    "    # replace digits with no space\n",
    "    s = re.sub(r\"\\d\", '', s)\n",
    "\n",
    "    return s\n",
    "\n",
    "def word_filter(stem_word):\n",
    "        nepali_word = True\n",
    "        # print('stem_word: ',stem_word)\n",
    "        if len(stem_word) > 3:\n",
    "            for letter in stem_word:\n",
    "                if not 0x0090 <= ord(letter) <= 0x97F:\n",
    "                    nepali_word = False\n",
    "                return nepali_word \n",
    "        else:\n",
    "            return False    \n",
    "\n",
    "def tockenize(x_train,y_train,x_val,y_val):\n",
    "    word_list = []\n",
    "    tokenized_word = []\n",
    "    stopwords = set(stop_words)\n",
    "    for i in x_train:\n",
    "      stem_list = stemmer.stemWords(i.split())\n",
    "      tokenized_word = list(filter(word_filter, stem_list))\n",
    "        # final_tokenized_word = [word for word in tokenized_word if len(word)>3]\n",
    "      word_list.append(tokenized_word)\n",
    "    print(word_list)\n",
    "    a = list(itertools.chain.from_iterable(word_list))\n",
    "    print(a)\n",
    "    corpus = Counter(a)\n",
    "    # sorting on the basis of most common words\n",
    "    corpus_ = sorted(corpus,key=corpus.get,reverse=True)[:1000]\n",
    "    # creating a dict\n",
    "    onehot_dict = {w:i+1 for i,w in enumerate(corpus_)}\n",
    "    \n",
    "    # tockenize\n",
    "    final_list_train,final_list_test = [],[]\n",
    "    for sent in x_train:\n",
    "            final_list_train.append([onehot_dict[preprocess_string(word)] for word in sent.split() \n",
    "                                     if preprocess_string(word) in onehot_dict.keys()])\n",
    "    for sent in x_val:\n",
    "            final_list_test.append([onehot_dict[preprocess_string(word)] for word in sent.split() \n",
    "                                    if preprocess_string(word) in onehot_dict.keys()])\n",
    "            \n",
    "    encoded_train = [1 if label =='positive' else 0 for label in y_train]\n",
    "    print(encoded_train)  \n",
    "    encoded_test = [1 if label =='positive' else 0 for label in y_val]\n",
    "    print(encoded_test)\n",
    "    return np.array(final_list_train), np.array(encoded_train),np.array(final_list_test), np.array(encoded_test),onehot_dict"
   ]
  },
  {
   "cell_type": "code",
   "execution_count": null,
   "metadata": {
    "id": "jl12LhhVj8X5"
   },
   "outputs": [],
   "source": [
    "lst = ['समाज', 'खेलकुद', 'राजनीति', 'प्रवास','विश्व','अर्थ','स्वास्थ्य','विज्ञान प्रविधि','मनोरञ्जन','साहित्य','सेयर बजार']\n",
    "pat = '|'.join(lst)\n",
    "\n",
    "df1 = df[df['label'].str.contains(pat)]"
   ]
  },
  {
   "cell_type": "code",
   "execution_count": null,
   "metadata": {
    "colab": {
     "base_uri": "https://localhost:8080/"
    },
    "id": "hBIDveYW2SoF",
    "outputId": "eedc8458-475e-4e66-f228-06b64ce31581"
   },
   "outputs": [
    {
     "name": "stdout",
     "output_type": "stream",
     "text": [
      "['a', 'b', 'c']\n"
     ]
    }
   ],
   "source": [
    "import itertools\n",
    "a = [['a','b'], ['c']]\n",
    "c= list(itertools.chain.from_iterable(a))\n",
    "print(c)"
   ]
  },
  {
   "cell_type": "code",
   "execution_count": null,
   "metadata": {
    "id": "GgPVxWTUWUuE"
   },
   "outputs": [],
   "source": [
    "x_train,y_train,x_test,y_test,vocab = tockenize(x_train,y_train,x_test,y_test)"
   ]
  },
  {
   "cell_type": "code",
   "execution_count": null,
   "metadata": {
    "colab": {
     "base_uri": "https://localhost:8080/",
     "height": 163
    },
    "id": "bYN-Ps6QmCaB",
    "outputId": "ab47c9a9-6a95-428c-c48c-1d346c93c946"
   },
   "outputs": [
    {
     "ename": "NameError",
     "evalue": "ignored",
     "output_type": "error",
     "traceback": [
      "\u001b[0;31m---------------------------------------------------------------------------\u001b[0m",
      "\u001b[0;31mNameError\u001b[0m                                 Traceback (most recent call last)",
      "\u001b[0;32m<ipython-input-16-422fea9e5994>\u001b[0m in \u001b[0;36m<module>\u001b[0;34m()\u001b[0m\n\u001b[0;32m----> 1\u001b[0;31m \u001b[0mencoded_train\u001b[0m\u001b[0;34m\u001b[0m\u001b[0;34m\u001b[0m\u001b[0m\n\u001b[0m",
      "\u001b[0;31mNameError\u001b[0m: name 'encoded_train' is not defined"
     ]
    }
   ],
   "source": [
    "encoded_train"
   ]
  },
  {
   "cell_type": "code",
   "execution_count": null,
   "metadata": {
    "colab": {
     "base_uri": "https://localhost:8080/"
    },
    "id": "-GEEXgbW1tN4",
    "outputId": "a8d8417f-6994-40bc-abd1-648c78dacca7"
   },
   "outputs": [
    {
     "name": "stdout",
     "output_type": "stream",
     "text": [
      "[nltk_data] Downloading package stopwords to /root/nltk_data...\n",
      "[nltk_data]   Unzipping corpora/stopwords.zip.\n"
     ]
    },
    {
     "data": {
      "text/plain": [
       "True"
      ]
     },
     "execution_count": 14,
     "metadata": {
      "tags": []
     },
     "output_type": "execute_result"
    }
   ],
   "source": [
    "import nltk\n",
    "nltk.download('stopwords')"
   ]
  },
  {
   "cell_type": "code",
   "execution_count": null,
   "metadata": {
    "colab": {
     "base_uri": "https://localhost:8080/"
    },
    "id": "uu7eNor01mOx",
    "outputId": "6da15e4d-3836-4d3f-cb5a-411f5287b732"
   },
   "outputs": [
    {
     "data": {
      "text/plain": [
       "array([list([]), list([]), list([]), ..., list([]), list([]), list([])],\n",
       "      dtype=object)"
      ]
     },
     "execution_count": 20,
     "metadata": {
      "tags": []
     },
     "output_type": "execute_result"
    }
   ],
   "source": [
    "x_train"
   ]
  },
  {
   "cell_type": "code",
   "execution_count": null,
   "metadata": {
    "colab": {
     "base_uri": "https://localhost:8080/"
    },
    "id": "ivSvO9UK2KPb",
    "outputId": "5d227199-b687-40e3-cff3-62f7ff95e0ae"
   },
   "outputs": [
    {
     "name": "stdout",
     "output_type": "stream",
     "text": [
      "Length of vocabulary is 1000\n"
     ]
    }
   ],
   "source": [
    "print(f'Length of vocabulary is {len(vocab)}')"
   ]
  },
  {
   "cell_type": "code",
   "execution_count": null,
   "metadata": {
    "id": "FDOl833gWg1X"
   },
   "outputs": [],
   "source": [
    "print(vocab)"
   ]
  },
  {
   "cell_type": "code",
   "execution_count": null,
   "metadata": {
    "colab": {
     "base_uri": "https://localhost:8080/",
     "height": 418
    },
    "id": "M7JDJQ-t2MMB",
    "outputId": "f9c2cb33-1e2d-4d90-8a10-e68c353e5652"
   },
   "outputs": [
    {
     "data": {
      "image/png": "[encoded data removed]",
      "text/plain": [
       "<Figure size 432x288 with 1 Axes>"
      ]
     },
     "metadata": {
      "needs_background": "light",
      "tags": []
     },
     "output_type": "display_data"
    },
    {
     "data": {
      "text/plain": [
       "count    3026.000000\n",
       "mean        0.023794\n",
       "std         0.182079\n",
       "min         0.000000\n",
       "25%         0.000000\n",
       "50%         0.000000\n",
       "75%         0.000000\n",
       "max         3.000000\n",
       "dtype: float64"
      ]
     },
     "execution_count": 22,
     "metadata": {
      "tags": []
     },
     "output_type": "execute_result"
    }
   ],
   "source": [
    "rev_len = [len(i) for i in x_train]\n",
    "pd.Series(rev_len).hist()\n",
    "plt.show()\n",
    "pd.Series(rev_len).describe()"
   ]
  },
  {
   "cell_type": "code",
   "execution_count": null,
   "metadata": {
    "id": "XCamahh_2N-a"
   },
   "outputs": [],
   "source": [
    "def padding_(sentences, seq_len):\n",
    "    features = np.zeros((len(sentences), seq_len),dtype=int)\n",
    "    for ii, review in enumerate(sentences):\n",
    "        if len(review) != 0:\n",
    "            features[ii, -len(review):] = np.array(review)[:seq_len]\n",
    "    return features"
   ]
  },
  {
   "cell_type": "code",
   "execution_count": null,
   "metadata": {
    "id": "Fs7eptGS2S-a"
   },
   "outputs": [],
   "source": [
    "x_train_pad = padding_(x_train,500)\n",
    "x_test_pad = padding_(x_test,500)"
   ]
  },
  {
   "cell_type": "code",
   "execution_count": null,
   "metadata": {
    "id": "v6RfpqzS2WC7"
   },
   "outputs": [],
   "source": [
    "train_data = TensorDataset(torch.from_numpy(x_train_pad), torch.from_numpy(y_train))\n",
    "valid_data = TensorDataset(torch.from_numpy(x_test_pad), torch.from_numpy(y_test))\n",
    "\n",
    "# dataloaders\n",
    "batch_size = 50\n",
    "\n",
    "# make sure to SHUFFLE your data\n",
    "train_loader = DataLoader(train_data, shuffle=True, batch_size=batch_size,drop_last=True)\n",
    "valid_loader = DataLoader(valid_data, shuffle=True, batch_size=batch_size,drop_last=True)"
   ]
  },
  {
   "cell_type": "code",
   "execution_count": null,
   "metadata": {
    "colab": {
     "base_uri": "https://localhost:8080/"
    },
    "id": "JPxK5Vxz2YiC",
    "outputId": "3991f606-990c-4d09-e776-f66ec0a2b904"
   },
   "outputs": [
    {
     "name": "stdout",
     "output_type": "stream",
     "text": [
      "Sample input size:  torch.Size([50, 500])\n",
      "Sample input: \n",
      " tensor([[0, 0, 0,  ..., 0, 0, 0],\n",
      "        [0, 0, 0,  ..., 0, 0, 0],\n",
      "        [0, 0, 0,  ..., 0, 0, 0],\n",
      "        ...,\n",
      "        [0, 0, 0,  ..., 0, 0, 0],\n",
      "        [0, 0, 0,  ..., 0, 0, 0],\n",
      "        [0, 0, 0,  ..., 0, 0, 0]])\n",
      "Sample input: \n",
      " tensor([1, 1, 0, 1, 1, 1, 1, 1, 1, 0, 1, 0, 0, 1, 0, 1, 0, 0, 0, 1, 0, 1, 0, 0,\n",
      "        1, 1, 0, 1, 1, 1, 0, 0, 0, 0, 0, 0, 1, 1, 0, 0, 1, 0, 1, 0, 1, 0, 0, 0,\n",
      "        1, 1])\n"
     ]
    }
   ],
   "source": [
    "dataiter = iter(train_loader)\n",
    "sample_x, sample_y = dataiter.next()\n",
    "\n",
    "print('Sample input size: ', sample_x.size()) # batch_size, seq_length\n",
    "print('Sample input: \\n', sample_x)\n",
    "print('Sample input: \\n', sample_y)\n"
   ]
  },
  {
   "cell_type": "code",
   "execution_count": null,
   "metadata": {
    "id": "Ph53vxT12b5T"
   },
   "outputs": [],
   "source": [
    "class SentimentRNN(nn.Module):\n",
    "    def __init__(self,no_layers,vocab_size,hidden_dim,embedding_dim,drop_prob=0.5):\n",
    "        super(SentimentRNN,self).__init__()\n",
    " \n",
    "        self.output_dim = output_dim\n",
    "        self.hidden_dim = hidden_dim\n",
    " \n",
    "        self.no_layers = no_layers\n",
    "        self.vocab_size = vocab_size\n",
    "    \n",
    "        # embedding and LSTM layers\n",
    "        self.embedding = nn.Embedding(vocab_size, embedding_dim)\n",
    "        \n",
    "        #lstm\n",
    "        self.lstm = nn.LSTM(input_size=embedding_dim,hidden_size=self.hidden_dim,\n",
    "                           num_layers=no_layers,batch_first = True)\n",
    "        \n",
    "        \n",
    "        # dropout layer\n",
    "        self.dropout = nn.Dropout(0.3)\n",
    "    \n",
    "        # linear and sigmoid layer\n",
    "        self.fc = nn.Linear(self.hidden_dim, output_dim)\n",
    "        self.sig = nn.Sigmoid()\n",
    "        \n",
    "    def forward(self,x,hidden):\n",
    "        batch_size = x.size(0)\n",
    "        # embeddings and lstm_out\n",
    "        embeds = self.embedding(x)  # shape: B x S x Feature   since batch = True\n",
    "        #print(embeds.shape)  #[50, 500, 1000]\n",
    "        lstm_out, hidden = self.lstm(embeds, hidden)\n",
    "        \n",
    "        lstm_out = lstm_out.contiguous().view(-1, self.hidden_dim) \n",
    "        \n",
    "        # dropout and fully connected layer\n",
    "        out = self.dropout(lstm_out)\n",
    "        out = self.fc(out)\n",
    "        \n",
    "        # sigmoid function\n",
    "        sig_out = self.sig(out)\n",
    "        \n",
    "        # reshape to be batch_size first\n",
    "        sig_out = sig_out.view(batch_size, -1)\n",
    "\n",
    "        sig_out = sig_out[:, -1] # get last batch of labels\n",
    "        \n",
    "        # return last sigmoid output and hidden state\n",
    "        return sig_out, hidden\n",
    "        \n",
    "        \n",
    "        \n",
    "    def init_hidden(self, batch_size):\n",
    "        ''' Initializes hidden state '''\n",
    "        # Create two new tensors with sizes n_layers x batch_size x hidden_dim,\n",
    "        # initialized to zero, for hidden state and cell state of LSTM\n",
    "        h0 = torch.zeros((self.no_layers,batch_size,self.hidden_dim)).to(device)\n",
    "        c0 = torch.zeros((self.no_layers,batch_size,self.hidden_dim)).to(device)\n",
    "        hidden = (h0,c0)\n",
    "        return hidden"
   ]
  },
  {
   "cell_type": "code",
   "execution_count": null,
   "metadata": {
    "colab": {
     "base_uri": "https://localhost:8080/"
    },
    "id": "GaMW1_Vl2eqi",
    "outputId": "f47e188c-87d7-4024-a987-0ade1e7fcbb0"
   },
   "outputs": [
    {
     "name": "stdout",
     "output_type": "stream",
     "text": [
      "1001\n",
      "SentimentRNN(\n",
      "  (embedding): Embedding(1001, 64)\n",
      "  (lstm): LSTM(64, 256, num_layers=2, batch_first=True)\n",
      "  (dropout): Dropout(p=0.3, inplace=False)\n",
      "  (fc): Linear(in_features=256, out_features=1, bias=True)\n",
      "  (sig): Sigmoid()\n",
      ")\n"
     ]
    }
   ],
   "source": [
    "no_layers = 2\n",
    "vocab_size = len(vocab) + 1 #extra 1 for padding\n",
    "embedding_dim = 64\n",
    "output_dim = 1\n",
    "hidden_dim = 256\n",
    "\n",
    "\n",
    "model = SentimentRNN(no_layers,vocab_size,hidden_dim,embedding_dim,drop_prob=0.5)\n",
    "\n",
    "#moving to gpu\n",
    "model.to(device)\n",
    "print(vocab_size)\n",
    "print(model)"
   ]
  },
  {
   "cell_type": "code",
   "execution_count": null,
   "metadata": {
    "id": "AMk_4i5X2inM"
   },
   "outputs": [],
   "source": [
    "# loss and optimization functions\n",
    "lr=0.0001\n",
    "\n",
    "criterion = nn.BCELoss()\n",
    "\n",
    "optimizer = torch.optim.Adam(model.parameters(), lr=lr)\n",
    "\n",
    "# function to predict accuracy\n",
    "def acc(pred,label):\n",
    "    pred = torch.round(pred.squeeze())\n",
    "    return torch.sum(pred == label.squeeze()).item()\n"
   ]
  },
  {
   "cell_type": "code",
   "execution_count": null,
   "metadata": {
    "colab": {
     "base_uri": "https://localhost:8080/"
    },
    "id": "2WQpZm5s2l1z",
    "outputId": "ababbc1b-7bd3-4384-8cc3-f918bcf4b870"
   },
   "outputs": [
    {
     "name": "stdout",
     "output_type": "stream",
     "text": [
      "Epoch 1\n",
      "train_loss : 0.6904061992963155 val_loss : 0.6896686643362046\n",
      "train_accuracy : 53.76734963648381 val_accuracy : 53.716551040634286\n",
      "Validation loss decreased (inf --> 0.689669).  Saving model ...\n",
      "==================================================\n",
      "Epoch 2\n",
      "train_loss : 0.6900160680214564 val_loss : 0.688989195227623\n",
      "train_accuracy : 53.56906807666887 val_accuracy : 53.815659068384534\n",
      "Validation loss decreased (0.689669 --> 0.688989).  Saving model ...\n",
      "==================================================\n",
      "Epoch 3\n",
      "train_loss : 0.6890889843304951 val_loss : 0.6884281039237976\n",
      "train_accuracy : 53.76734963648381 val_accuracy : 53.716551040634286\n",
      "Validation loss decreased (0.688989 --> 0.688428).  Saving model ...\n",
      "==================================================\n",
      "Epoch 4\n",
      "train_loss : 0.6882021317879359 val_loss : 0.6879490345716477\n",
      "train_accuracy : 53.63516192994051 val_accuracy : 53.716551040634286\n",
      "Validation loss decreased (0.688428 --> 0.687949).  Saving model ...\n",
      "==================================================\n",
      "Epoch 5\n",
      "train_loss : 0.6880130936702092 val_loss : 0.6863479524850845\n",
      "train_accuracy : 53.30469266358229 val_accuracy : 53.91476709613479\n",
      "Validation loss decreased (0.687949 --> 0.686348).  Saving model ...\n",
      "==================================================\n",
      "Epoch 6\n",
      "train_loss : 0.6868277430534363 val_loss : 0.6859450787305832\n",
      "train_accuracy : 53.76734963648381 val_accuracy : 53.716551040634286\n",
      "Validation loss decreased (0.686348 --> 0.685945).  Saving model ...\n",
      "==================================================\n",
      "Epoch 7\n",
      "train_loss : 0.6863560418287913 val_loss : 0.6860950708389282\n",
      "train_accuracy : 53.56906807666887 val_accuracy : 53.815659068384534\n",
      "==================================================\n",
      "Epoch 8\n",
      "train_loss : 0.6862766196330389 val_loss : 0.6856590270996094\n",
      "train_accuracy : 53.86649041639128 val_accuracy : 53.617443012884046\n",
      "Validation loss decreased (0.685945 --> 0.685659).  Saving model ...\n",
      "==================================================\n",
      "Epoch 9\n",
      "train_loss : 0.6862805257240931 val_loss : 0.6851237267255783\n",
      "train_accuracy : 53.76734963648381 val_accuracy : 53.815659068384534\n",
      "Validation loss decreased (0.685659 --> 0.685124).  Saving model ...\n",
      "==================================================\n",
      "Epoch 10\n",
      "train_loss : 0.6855581770340602 val_loss : 0.685123610496521\n",
      "train_accuracy : 53.73430270984798 val_accuracy : 53.716551040634286\n",
      "Validation loss decreased (0.685124 --> 0.685124).  Saving model ...\n",
      "==================================================\n",
      "Epoch 11\n",
      "train_loss : 0.6854660511016846 val_loss : 0.685446709394455\n",
      "train_accuracy : 53.83344348975545 val_accuracy : 53.5183349851338\n",
      "==================================================\n",
      "Epoch 12\n",
      "train_loss : 0.684967174132665 val_loss : 0.684699946641922\n",
      "train_accuracy : 53.76734963648381 val_accuracy : 53.91476709613479\n",
      "Validation loss decreased (0.685124 --> 0.684700).  Saving model ...\n",
      "==================================================\n",
      "Epoch 13\n",
      "train_loss : 0.685105241338412 val_loss : 0.6849362105131149\n",
      "train_accuracy : 53.83344348975545 val_accuracy : 53.716551040634286\n",
      "==================================================\n",
      "Epoch 14\n",
      "train_loss : 0.6855786015590032 val_loss : 0.6849640309810638\n",
      "train_accuracy : 53.668208856576335 val_accuracy : 53.716551040634286\n",
      "==================================================\n",
      "Epoch 15\n",
      "train_loss : 0.6852443446715673 val_loss : 0.6849877715110779\n",
      "train_accuracy : 53.83344348975545 val_accuracy : 53.815659068384534\n",
      "==================================================\n",
      "Epoch 16\n",
      "train_loss : 0.685504890481631 val_loss : 0.6856669336557388\n",
      "train_accuracy : 53.63516192994051 val_accuracy : 53.617443012884046\n",
      "==================================================\n",
      "Epoch 17\n",
      "train_loss : 0.6856789618730545 val_loss : 0.684566879272461\n",
      "train_accuracy : 53.668208856576335 val_accuracy : 54.112983151635284\n",
      "Validation loss decreased (0.684700 --> 0.684567).  Saving model ...\n",
      "==================================================\n",
      "Epoch 18\n",
      "train_loss : 0.6848677903413772 val_loss : 0.6851644575595855\n",
      "train_accuracy : 53.800396563119634 val_accuracy : 53.617443012884046\n",
      "==================================================\n",
      "Epoch 19\n",
      "train_loss : 0.6854671984910965 val_loss : 0.6847493320703506\n",
      "train_accuracy : 53.800396563119634 val_accuracy : 53.91476709613479\n",
      "==================================================\n",
      "Epoch 20\n",
      "train_loss : 0.6848420232534409 val_loss : 0.6846837371587753\n",
      "train_accuracy : 53.668208856576335 val_accuracy : 54.013875123885036\n",
      "==================================================\n"
     ]
    }
   ],
   "source": [
    "clip = 5\n",
    "epochs = 20\n",
    "valid_loss_min = np.Inf\n",
    "# train for some number of epochs\n",
    "epoch_tr_loss,epoch_vl_loss = [],[]\n",
    "epoch_tr_acc,epoch_vl_acc = [],[]\n",
    "\n",
    "for epoch in range(epochs):\n",
    "    train_losses = []\n",
    "    train_acc = 0.0\n",
    "    model.train()\n",
    "    # initialize hidden state \n",
    "    h = model.init_hidden(batch_size)\n",
    "    for inputs, labels in train_loader:\n",
    "        \n",
    "        inputs, labels = inputs.to(device), labels.to(device)   \n",
    "        # Creating new variables for the hidden state, otherwise\n",
    "        # we'd backprop through the entire training history\n",
    "        h = tuple([each.data for each in h])\n",
    "        \n",
    "        model.zero_grad()\n",
    "        output,h = model(inputs,h)\n",
    "        \n",
    "        # calculate the loss and perform backprop\n",
    "        loss = criterion(output.squeeze(), labels.float())\n",
    "        loss.backward()\n",
    "        train_losses.append(loss.item())\n",
    "        # calculating accuracy\n",
    "        accuracy = acc(output,labels)\n",
    "        train_acc += accuracy\n",
    "        #`clip_grad_norm` helps prevent the exploding gradient problem in RNNs / LSTMs.\n",
    "        nn.utils.clip_grad_norm_(model.parameters(), clip)\n",
    "        optimizer.step()\n",
    " \n",
    "    \n",
    "        \n",
    "    val_h = model.init_hidden(batch_size)\n",
    "    val_losses = []\n",
    "    val_acc = 0.0\n",
    "    model.eval()\n",
    "    for inputs, labels in valid_loader:\n",
    "            val_h = tuple([each.data for each in val_h])\n",
    "\n",
    "            inputs, labels = inputs.to(device), labels.to(device)\n",
    "\n",
    "            output, val_h = model(inputs, val_h)\n",
    "            val_loss = criterion(output.squeeze(), labels.float())\n",
    "\n",
    "            val_losses.append(val_loss.item())\n",
    "            \n",
    "            accuracy = acc(output,labels)\n",
    "            val_acc += accuracy\n",
    "            \n",
    "    epoch_train_loss = np.mean(train_losses)\n",
    "    epoch_val_loss = np.mean(val_losses)\n",
    "    epoch_train_acc = train_acc/len(train_loader.dataset)\n",
    "    epoch_val_acc = val_acc/len(valid_loader.dataset)\n",
    "    epoch_tr_loss.append(epoch_train_loss)\n",
    "    epoch_vl_loss.append(epoch_val_loss)\n",
    "    epoch_tr_acc.append(epoch_train_acc)\n",
    "    epoch_vl_acc.append(epoch_val_acc)\n",
    "    print(f'Epoch {epoch+1}') \n",
    "    print(f'train_loss : {epoch_train_loss} val_loss : {epoch_val_loss}')\n",
    "    print(f'train_accuracy : {epoch_train_acc*100} val_accuracy : {epoch_val_acc*100}')\n",
    "    if epoch_val_loss <= valid_loss_min:\n",
    "        torch.save(model.state_dict(), '/content/model.pt')\n",
    "        print('Validation loss decreased ({:.6f} --> {:.6f}).  Saving model ...'.format(valid_loss_min,epoch_val_loss))\n",
    "        valid_loss_min = epoch_val_loss\n",
    "    print(25*'==')\n",
    "    "
   ]
  },
  {
   "cell_type": "code",
   "execution_count": null,
   "metadata": {
    "id": "aJyewBJ-4Sos"
   },
   "outputs": [],
   "source": [
    "def predict_text(text):\n",
    "        word_seq = np.array([vocab[preprocess_string(word)] for word in text.split() \n",
    "                         if preprocess_string(word) in vocab.keys()])\n",
    "        word_seq = np.expand_dims(word_seq,axis=0)\n",
    "        pad =  torch.from_numpy(padding_(word_seq,500))\n",
    "        inputs = pad.to(device)\n",
    "        batch_size = 1\n",
    "        h = model.init_hidden(batch_size)\n",
    "        h = tuple([each.data for each in h])\n",
    "        output, h = model(inputs, h)\n",
    "        return(output.item())"
   ]
  },
  {
   "cell_type": "code",
   "execution_count": null,
   "metadata": {
    "colab": {
     "base_uri": "https://localhost:8080/"
    },
    "id": "7RWOT0PX4W4T",
    "outputId": "e2f4e94d-f969-4de7-b5ef-ec1c3fa30db2"
   },
   "outputs": [
    {
     "name": "stdout",
     "output_type": "stream",
     "text": [
      "लखेटनु पछ दले ले देश सकेछन सबै बेचे र खान सुरू गरेछन अब दले लाई लखेटनु पछ ।\n",
      "======================================================================\n",
      "Actual sentiment is  : positive\n",
      "======================================================================\n",
      "0.5309350490570068\n",
      "Predicted sentiment is postive with a probability of 0.5309350490570068\n"
     ]
    }
   ],
   "source": [
    "index = 1\n",
    "print(df['join'][index])\n",
    "print('='*70)\n",
    "print(f'Actual sentiment is  : {df[\"reaction\"][index]}')\n",
    "print('='*70)\n",
    "pro = predict_text(df['join'][index])\n",
    "print(pro)\n",
    "if pro > 0.5:\n",
    "  status = \"postive\"\n",
    "else:\n",
    "  status = \"negative\"\n",
    "pro = (1 - pro) if status == \"negative\" else pro\n",
    "print(f'Predicted sentiment is {status} with a probability of {pro}')"
   ]
  },
  {
   "cell_type": "code",
   "execution_count": null,
   "metadata": {
    "colab": {
     "base_uri": "https://localhost:8080/"
    },
    "id": "EFBnBnKU9O29",
    "outputId": "67b627dc-a060-4b96-f946-ff4260055242"
   },
   "outputs": [
    {
     "name": "stdout",
     "output_type": "stream",
     "text": [
      "Initialized empty Git repository in /content/.git/\n"
     ]
    }
   ],
   "source": [
    "!git init"
   ]
  },
  {
   "cell_type": "code",
   "execution_count": null,
   "metadata": {
    "colab": {
     "base_uri": "https://localhost:8080/"
    },
    "id": "jTapKAuHwFqY",
    "outputId": "bcf958fd-74e1-4a00-a7d6-e9b416da23ee"
   },
   "outputs": [
    {
     "name": "stdout",
     "output_type": "stream",
     "text": [
      "fatal: pathspec 'sentiment_analysis.ipynb' did not match any files\n"
     ]
    }
   ],
   "source": [
    "!git add sentiment_analysis.ipynb"
   ]
  }
 ],
 "metadata": {
  "accelerator": "GPU",
  "colab": {
   "collapsed_sections": [],
   "name": "sentiment_analysis.ipynb",
   "provenance": []
  },
  "kernelspec": {
   "display_name": "Python 3 (ipykernel)",
   "language": "python",
   "name": "python3"
  },
  "language_info": {
   "codemirror_mode": {
    "name": "ipython",
    "version": 3
   },
   "file_extension": ".py",
   "mimetype": "text/x-python",
   "name": "python",
   "nbconvert_exporter": "python",
   "pygments_lexer": "ipython3",
   "version": "3.9.7"
  }
 },
 "nbformat": 4,
 "nbformat_minor": 1
}
